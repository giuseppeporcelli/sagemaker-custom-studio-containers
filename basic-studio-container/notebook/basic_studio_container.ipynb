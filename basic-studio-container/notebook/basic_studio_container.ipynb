{
 "cells": [
  {
   "cell_type": "markdown",
   "metadata": {},
   "source": [
    "# Basic Custom Studio Container"
   ]
  },
  {
   "cell_type": "markdown",
   "metadata": {},
   "source": [
    "This notebook demonstrates how to build basic custom Docker container to be used as Amazon SageMaker Studio Kernel Gateway application. Reference documentation is available at https://docs.aws.amazon.com/sagemaker/latest/dg/studio-byoi-create-sdk.html"
   ]
  },
  {
   "cell_type": "markdown",
   "metadata": {},
   "source": [
    "We start by defining some variables like the current execution role, the ECR repository that we are going to use for pushing the custom Docker container."
   ]
  },
  {
   "cell_type": "code",
   "execution_count": 1,
   "metadata": {},
   "outputs": [
    {
     "name": "stdout",
     "output_type": "stream",
     "text": [
      "825935527263\n",
      "eu-west-1\n",
      "arn:aws:iam::825935527263:role/service-role/AmazonSageMaker-ExecutionRole-endtoendml\n",
      "sagemaker-eu-west-1-825935527263\n"
     ]
    }
   ],
   "source": [
    "import boto3\n",
    "import sagemaker\n",
    "from sagemaker import get_execution_role\n",
    "\n",
    "ecr_namespace = 'sagemaker-studio-containers/'\n",
    "prefix = 'basic-studio-container'\n",
    "\n",
    "ecr_repository_name = ecr_namespace + prefix\n",
    "role = get_execution_role()\n",
    "account_id = role.split(':')[4]\n",
    "region = boto3.Session().region_name\n",
    "sagemaker_session = sagemaker.session.Session()\n",
    "bucket = sagemaker_session.default_bucket()\n",
    "\n",
    "print(account_id)\n",
    "print(region)\n",
    "print(role)\n",
    "print(bucket)"
   ]
  },
  {
   "cell_type": "markdown",
   "metadata": {},
   "source": [
    "## Create the container"
   ]
  },
  {
   "cell_type": "markdown",
   "metadata": {},
   "source": [
    "Let's take a look at the Dockerfile which defines the statements for building our custom SageMaker Studio container:"
   ]
  },
  {
   "cell_type": "code",
   "execution_count": 106,
   "metadata": {
    "scrolled": true
   },
   "outputs": [
    {
     "name": "stdout",
     "output_type": "stream",
     "text": [
      "\u001b[34mFROM\u001b[39;49;00m \u001b[33mpython:3.8\u001b[39;49;00m\n",
      "\n",
      "\u001b[37m# As of 2021-11-03, SageMaker only supports 1000/100 or 0/0 as the possible UID/GID values.\u001b[39;49;00m\n",
      "\u001b[34mARG\u001b[39;49;00m \u001b[31mNB_USER\u001b[39;49;00m=\u001b[33m\"sagemaker-user\"\u001b[39;49;00m\n",
      "\u001b[34mARG\u001b[39;49;00m \u001b[31mNB_UID\u001b[39;49;00m=\u001b[33m\"1000\"\u001b[39;49;00m\n",
      "\u001b[34mARG\u001b[39;49;00m \u001b[31mNB_GID\u001b[39;49;00m=\u001b[33m\"100\"\u001b[39;49;00m\n",
      "\n",
      "\u001b[37m# Setup the \"sagemaker-user\" user with root privileges.\u001b[39;49;00m\n",
      "\u001b[34mRUN\u001b[39;49;00m \u001b[33m\\\u001b[39;49;00m\n",
      "    apt-get update && \u001b[33m\\\u001b[39;49;00m\n",
      "    apt-get install -y sudo && \u001b[33m\\\u001b[39;49;00m\n",
      "    useradd -m -s /bin/bash -N -u \u001b[31m$NB_UID\u001b[39;49;00m \u001b[31m$NB_USER\u001b[39;49;00m && \u001b[33m\\\u001b[39;49;00m\n",
      "    chmod g+w /etc/passwd && \u001b[33m\\\u001b[39;49;00m\n",
      "    \u001b[36mecho\u001b[39;49;00m \u001b[33m\"\u001b[39;49;00m\u001b[33m${\u001b[39;49;00m\u001b[31mNB_USER\u001b[39;49;00m\u001b[33m}\u001b[39;49;00m\u001b[33m    ALL=(ALL)    NOPASSWD:    ALL\u001b[39;49;00m\u001b[33m\"\u001b[39;49;00m >> /etc/sudoers && \u001b[33m\\\u001b[39;49;00m\n",
      "    # Prevent apt-get cache from being persisted to this layer.\n",
      "    rm -rf /var/lib/apt/lists/*\n",
      "    \n",
      "\u001b[37m# Make the default shell bash (vs \"sh\") for a better Jupyter terminal UX\u001b[39;49;00m\n",
      "\u001b[34mENV\u001b[39;49;00m \u001b[31mSHELL\u001b[39;49;00m=/bin/bash\n",
      "\u001b[34mENV\u001b[39;49;00m \u001b[31mPATH\u001b[39;49;00m=\u001b[33m\"\u001b[39;49;00m\u001b[33m/home/sagemaker-user/.local/bin:\u001b[39;49;00m\u001b[33m${\u001b[39;49;00m\u001b[31mPATH\u001b[39;49;00m\u001b[33m}\u001b[39;49;00m\u001b[33m\"\u001b[39;49;00m\n",
      "\n",
      "\u001b[34mRUN\u001b[39;49;00m pip install ipykernel && \u001b[33m\\\u001b[39;49;00m\n",
      "        python -m ipykernel install --sys-prefix\n",
      "\n",
      "\u001b[34mUSER\u001b[39;49;00m\u001b[33m $NB_UID\u001b[39;49;00m\n"
     ]
    }
   ],
   "source": [
    "! pygmentize ../docker/Dockerfile"
   ]
  },
  {
   "cell_type": "markdown",
   "metadata": {},
   "source": [
    "At high-level the Dockerfile specifies the following operations for building this container:\n",
    "<ul>\n",
    "    <li>Start from Python 3.8 image</li>\n",
    "    <li>Define some variables to be used at build time to give root privileges to sagemaker-user</li>\n",
    "    <li>Make bash the default shell</li>\n",
    "    <li>Install the IPython kernel.</li>\n",
    "    <li>Set the user to use when running the image.</li>\n",
    "</ul>"
   ]
  },
  {
   "cell_type": "markdown",
   "metadata": {},
   "source": [
    "### Build and push the container\n",
    "We are now ready to build this container and push it to Amazon ECR. This task is executed using a shell script stored in the ../script/ folder. Let's take a look at this script and then execute it."
   ]
  },
  {
   "cell_type": "code",
   "execution_count": 107,
   "metadata": {
    "scrolled": true
   },
   "outputs": [
    {
     "name": "stdout",
     "output_type": "stream",
     "text": [
      "\u001b[31mACCOUNT_ID\u001b[39;49;00m=\u001b[31m$1\u001b[39;49;00m\n",
      "\u001b[31mREGION\u001b[39;49;00m=\u001b[31m$2\u001b[39;49;00m\n",
      "\u001b[31mREPO_NAME\u001b[39;49;00m=\u001b[31m$3\u001b[39;49;00m\n",
      "\n",
      "docker build -f ../docker/Dockerfile -t \u001b[31m$REPO_NAME\u001b[39;49;00m ../docker\n",
      "\n",
      "docker tag \u001b[31m$REPO_NAME\u001b[39;49;00m \u001b[31m$ACCOUNT_ID\u001b[39;49;00m.dkr.ecr.\u001b[31m$REGION\u001b[39;49;00m.amazonaws.com/\u001b[31m$REPO_NAME\u001b[39;49;00m:latest\n",
      "\n",
      "\u001b[34m$(\u001b[39;49;00maws ecr get-login --no-include-email --registry-ids \u001b[31m$ACCOUNT_ID\u001b[39;49;00m\u001b[34m)\u001b[39;49;00m\n",
      "\n",
      "aws ecr describe-repositories --repository-names \u001b[31m$REPO_NAME\u001b[39;49;00m || aws ecr create-repository --repository-name \u001b[31m$REPO_NAME\u001b[39;49;00m\n",
      "\n",
      "docker push \u001b[31m$ACCOUNT_ID\u001b[39;49;00m.dkr.ecr.\u001b[31m$REGION\u001b[39;49;00m.amazonaws.com/\u001b[31m$REPO_NAME\u001b[39;49;00m:latest\n"
     ]
    }
   ],
   "source": [
    "! pygmentize ../scripts/build_and_push.sh"
   ]
  },
  {
   "cell_type": "markdown",
   "metadata": {},
   "source": [
    "<h3>--------------------------------------------------------------------------------------------------------------------</h3>\n",
    "\n",
    "The script builds the Docker container, then creates the repository if it does not exist, and finally pushes the container to the ECR repository. The build task requires a few minutes to be executed the first time, then Docker caches build outputs to be reused for the subsequent build operations."
   ]
  },
  {
   "cell_type": "code",
   "execution_count": 108,
   "metadata": {
    "scrolled": true
   },
   "outputs": [
    {
     "name": "stdout",
     "output_type": "stream",
     "text": [
      "Sending build context to Docker daemon  4.608kB\n",
      "Step 1/9 : FROM python:3.8\n",
      " ---> 53da5c105f01\n",
      "Step 2/9 : ARG NB_USER=\"sagemaker-user\"\n",
      " ---> Using cache\n",
      " ---> 1f094f811114\n",
      "Step 3/9 : ARG NB_UID=\"1000\"\n",
      " ---> Using cache\n",
      " ---> af0329a58f08\n",
      "Step 4/9 : ARG NB_GID=\"100\"\n",
      " ---> Using cache\n",
      " ---> 332a08c13795\n",
      "Step 5/9 : RUN     apt-get update &&     apt-get install -y sudo &&     useradd -m -s /bin/bash -N -u $NB_UID $NB_USER &&     chmod g+w /etc/passwd &&     echo \"${NB_USER}    ALL=(ALL)    NOPASSWD:    ALL\" >> /etc/sudoers &&     rm -rf /var/lib/apt/lists/*\n",
      " ---> Using cache\n",
      " ---> 2cb7da73b878\n",
      "Step 6/9 : ENV SHELL=/bin/bash\n",
      " ---> Using cache\n",
      " ---> f576bbc3bd89\n",
      "Step 7/9 : ENV PATH=\"/home/sagemaker-user/.local/bin:${PATH}\"\n",
      " ---> Using cache\n",
      " ---> a2cefae7c23e\n",
      "Step 8/9 : RUN pip install ipykernel &&         python -m ipykernel install --sys-prefix\n",
      " ---> Using cache\n",
      " ---> 7d8e829cf451\n",
      "Step 9/9 : USER $NB_UID\n",
      " ---> Using cache\n",
      " ---> 25920b912845\n",
      "Successfully built 25920b912845\n",
      "Successfully tagged sagemaker-studio-containers/basic-studio-container:latest\n",
      "WARNING! Using --password via the CLI is insecure. Use --password-stdin.\n",
      "WARNING! Your password will be stored unencrypted in /home/ec2-user/.docker/config.json.\n",
      "Configure a credential helper to remove this warning. See\n",
      "https://docs.docker.com/engine/reference/commandline/login/#credentials-store\n",
      "\n",
      "Login Succeeded\n",
      "{\n",
      "    \"repositories\": [\n",
      "        {\n",
      "            \"repositoryArn\": \"arn:aws:ecr:eu-west-1:825935527263:repository/sagemaker-studio-containers/basic-studio-container\",\n",
      "            \"registryId\": \"825935527263\",\n",
      "            \"repositoryName\": \"sagemaker-studio-containers/basic-studio-container\",\n",
      "            \"repositoryUri\": \"825935527263.dkr.ecr.eu-west-1.amazonaws.com/sagemaker-studio-containers/basic-studio-container\",\n",
      "            \"createdAt\": 1616602397.0,\n",
      "            \"imageTagMutability\": \"MUTABLE\",\n",
      "            \"imageScanningConfiguration\": {\n",
      "                \"scanOnPush\": false\n",
      "            },\n",
      "            \"encryptionConfiguration\": {\n",
      "                \"encryptionType\": \"AES256\"\n",
      "            }\n",
      "        }\n",
      "    ]\n",
      "}\n",
      "The push refers to repository [825935527263.dkr.ecr.eu-west-1.amazonaws.com/sagemaker-studio-containers/basic-studio-container]\n",
      "\n",
      "\u001b[1B987b8e2f: Preparing \n",
      "\u001b[1Bb01edf97: Preparing \n",
      "\u001b[1B0c0b2d66: Preparing \n",
      "\u001b[1B639a150e: Preparing \n",
      "\u001b[1Ba179c158: Preparing \n",
      "\u001b[1B717d0e01: Preparing \n",
      "\u001b[1B447ffe30: Preparing \n",
      "\u001b[1B01416dd2: Preparing \n",
      "\u001b[1B6d8c72c2: Preparing \n",
      "\u001b[1B48d6e877: Preparing \n",
      "\u001b[1Be5bdb921: Layer already exists \u001b[7A\u001b[2Klatest: digest: sha256:ac5e1ffcc556ab532e7b0b23927a6a6e2e31c9e935565f4d5c4b8f96728c168f size: 2641\n"
     ]
    }
   ],
   "source": [
    "! ../scripts/build_and_push.sh $account_id $region $ecr_repository_name"
   ]
  },
  {
   "cell_type": "markdown",
   "metadata": {},
   "source": [
    "## Validate the container locally"
   ]
  },
  {
   "cell_type": "code",
   "execution_count": 109,
   "metadata": {},
   "outputs": [
    {
     "name": "stdout",
     "output_type": "stream",
     "text": [
      "sagemaker-studio-containers/basic-studio-container:latest\n"
     ]
    }
   ],
   "source": [
    "local_container_image = '{0}:latest'.format(ecr_repository_name)\n",
    "print(local_container_image)"
   ]
  },
  {
   "cell_type": "markdown",
   "metadata": {},
   "source": [
    "Let's check if the container defines kernels appropriately:"
   ]
  },
  {
   "cell_type": "code",
   "execution_count": 110,
   "metadata": {},
   "outputs": [
    {
     "name": "stdout",
     "output_type": "stream",
     "text": [
      "Available kernels:\n",
      "  python3    /usr/local/share/jupyter/kernels/python3\n"
     ]
    }
   ],
   "source": [
    "!docker run $local_container_image bash -c 'jupyter-kernelspec list'"
   ]
  },
  {
   "cell_type": "markdown",
   "metadata": {},
   "source": [
    "Now we can run the container with a KernelGateway, to validate if the kernels are visible from the exposed REST endpoint."
   ]
  },
  {
   "cell_type": "code",
   "execution_count": 111,
   "metadata": {},
   "outputs": [
    {
     "name": "stdout",
     "output_type": "stream",
     "text": [
      "c1b5e1554893395bcbcdcd6fe37e53f8d3a2e202f56af8dd83c7d79eeb6be39a\n"
     ]
    }
   ],
   "source": [
    "container_id = !docker run -d -p 8888:8888 $local_container_image bash -c 'pip install jupyter_kernel_gateway  && jupyter kernelgateway --ip 0.0.0.0 --debug --port 8888' \n",
    "container_id = container_id[0]\n",
    "print(container_id)"
   ]
  },
  {
   "cell_type": "markdown",
   "metadata": {},
   "source": [
    "Let's wait 30 seconds to allow the KernelGateway to start and then we can try invoking the API returning kernelspec."
   ]
  },
  {
   "cell_type": "code",
   "execution_count": null,
   "metadata": {},
   "outputs": [],
   "source": [
    "import time\n",
    "time.sleep(30)"
   ]
  },
  {
   "cell_type": "code",
   "execution_count": 113,
   "metadata": {},
   "outputs": [
    {
     "name": "stdout",
     "output_type": "stream",
     "text": [
      "{\"default\": \"python3\", \"kernelspecs\": {\"python3\": {\"name\": \"python3\", \"spec\": {\"argv\": [\"/usr/local/bin/python\", \"-m\", \"ipykernel_launcher\", \"-f\", \"{connection_file}\"], \"env\": {}, \"display_name\": \"Python 3\", \"language\": \"python\", \"interrupt_mode\": \"signal\", \"metadata\": {}}, \"resources\": {\"logo-64x64\": \"/kernelspecs/python3/logo-64x64.png\", \"logo-32x32\": \"/kernelspecs/python3/logo-32x32.png\"}}}}\n"
     ]
    }
   ],
   "source": [
    "kernelspecs = !curl http://0.0.0.0:8888/api/kernelspecs\n",
    "print(kernelspecs[5])"
   ]
  },
  {
   "cell_type": "markdown",
   "metadata": {},
   "source": [
    "Let's display this JSON nicely."
   ]
  },
  {
   "cell_type": "code",
   "execution_count": 114,
   "metadata": {},
   "outputs": [
    {
     "data": {
      "application/json": {
       "default": "python3",
       "kernelspecs": {
        "python3": {
         "name": "python3",
         "resources": {
          "logo-32x32": "/kernelspecs/python3/logo-32x32.png",
          "logo-64x64": "/kernelspecs/python3/logo-64x64.png"
         },
         "spec": {
          "argv": [
           "/usr/local/bin/python",
           "-m",
           "ipykernel_launcher",
           "-f",
           "{connection_file}"
          ],
          "display_name": "Python 3",
          "env": {},
          "interrupt_mode": "signal",
          "language": "python",
          "metadata": {}
         }
        }
       }
      },
      "text/plain": [
       "<IPython.core.display.JSON object>"
      ]
     },
     "execution_count": 114,
     "metadata": {
      "application/json": {
       "expanded": true,
       "root": "root"
      }
     },
     "output_type": "execute_result"
    }
   ],
   "source": [
    "from IPython.display import JSON\n",
    "JSON(kernelspecs[5], expanded=True)"
   ]
  },
  {
   "cell_type": "markdown",
   "metadata": {},
   "source": [
    "As expected the python3 kernel specification is returned. Now we can kill the local container."
   ]
  },
  {
   "cell_type": "code",
   "execution_count": 115,
   "metadata": {},
   "outputs": [
    {
     "name": "stdout",
     "output_type": "stream",
     "text": [
      "c1b5e1554893395bcbcdcd6fe37e53f8d3a2e202f56af8dd83c7d79eeb6be39a\n"
     ]
    }
   ],
   "source": [
    "! docker kill $container_id"
   ]
  },
  {
   "cell_type": "markdown",
   "metadata": {},
   "source": [
    "## Create SageMaker Image"
   ]
  },
  {
   "cell_type": "markdown",
   "metadata": {},
   "source": [
    "Once the container is ready, we need to:\n",
    " - create a SageMaker Image referencing the container image pushed to ECR\n",
    " - create an App Image Configuration for running the SageMaker Image as a KernelGateway app\n",
    " - associate the SageMaker Image and its App Image Configuration to our Amazon SageMaker Studio domain"
   ]
  },
  {
   "cell_type": "code",
   "execution_count": 122,
   "metadata": {},
   "outputs": [
    {
     "name": "stdout",
     "output_type": "stream",
     "text": [
      "825935527263.dkr.ecr.eu-west-1.amazonaws.com/sagemaker-studio-containers/basic-studio-container:latest\n"
     ]
    }
   ],
   "source": [
    "container_image_uri = '{0}.dkr.ecr.{1}.amazonaws.com/{2}:latest'.format(account_id, region, ecr_repository_name)\n",
    "print(container_image_uri)"
   ]
  },
  {
   "cell_type": "code",
   "execution_count": 123,
   "metadata": {},
   "outputs": [
    {
     "name": "stdout",
     "output_type": "stream",
     "text": [
      "{'ImageArn': 'arn:aws:sagemaker:eu-west-1:825935527263:image/python38-custom-image', 'ResponseMetadata': {'RequestId': '884bbc59-296f-42ee-9d2d-543c513a1276', 'HTTPStatusCode': 200, 'HTTPHeaders': {'x-amzn-requestid': '884bbc59-296f-42ee-9d2d-543c513a1276', 'content-type': 'application/x-amz-json-1.1', 'content-length': '83', 'date': 'Wed, 24 Mar 2021 18:38:40 GMT'}, 'RetryAttempts': 0}}\n"
     ]
    }
   ],
   "source": [
    "client = boto3.client('sagemaker')\n",
    "\n",
    "image_response = client.create_image(\n",
    "    Description='Python 3.8 kernel image',\n",
    "    DisplayName='Python 3.8',\n",
    "    ImageName='python38-custom-image',\n",
    "    RoleArn=role\n",
    ")\n",
    "print(image_response)"
   ]
  },
  {
   "cell_type": "code",
   "execution_count": 124,
   "metadata": {},
   "outputs": [
    {
     "name": "stdout",
     "output_type": "stream",
     "text": [
      "{'ImageVersionArn': 'arn:aws:sagemaker:eu-west-1:825935527263:image-version/python38-custom-image/1', 'ResponseMetadata': {'RequestId': '656b971f-819d-407d-9766-b0c0835ec4f6', 'HTTPStatusCode': 200, 'HTTPHeaders': {'x-amzn-requestid': '656b971f-819d-407d-9766-b0c0835ec4f6', 'content-type': 'application/x-amz-json-1.1', 'content-length': '100', 'date': 'Wed, 24 Mar 2021 18:38:41 GMT'}, 'RetryAttempts': 0}}\n"
     ]
    }
   ],
   "source": [
    "image_version_response = client.create_image_version(\n",
    "    BaseImage=container_image_uri,\n",
    "    ImageName='python38-custom-image'\n",
    ")\n",
    "print(image_version_response)"
   ]
  },
  {
   "cell_type": "markdown",
   "metadata": {},
   "source": [
    "Let's define the Kernel Gateway App image configuration.\n",
    "\n",
    "Notes:\n",
    "- <strong>Name and DisplayName must match exactly the names in the kernelspec exposed by the container (see previous section)</strong>\n",
    "- <strong>DefaultUid and DefaultGid must match exactly the UID and GID defined in the container</strong>\n"
   ]
  },
  {
   "cell_type": "code",
   "execution_count": 125,
   "metadata": {},
   "outputs": [
    {
     "name": "stdout",
     "output_type": "stream",
     "text": [
      "{'AppImageConfigArn': 'arn:aws:sagemaker:eu-west-1:825935527263:app-image-config/python38-custom-app-image-config', 'ResponseMetadata': {'RequestId': 'af776971-a273-4aff-9421-d245b73fef0d', 'HTTPStatusCode': 200, 'HTTPHeaders': {'x-amzn-requestid': 'af776971-a273-4aff-9421-d245b73fef0d', 'content-type': 'application/x-amz-json-1.1', 'content-length': '114', 'date': 'Wed, 24 Mar 2021 18:38:56 GMT'}, 'RetryAttempts': 0}}\n"
     ]
    }
   ],
   "source": [
    "app_image_config_response = client.create_app_image_config(\n",
    "    AppImageConfigName='python38-custom-app-image-config',\n",
    "    KernelGatewayImageConfig={\n",
    "        'KernelSpecs': [\n",
    "            {\n",
    "                'Name': 'python3',\n",
    "                'DisplayName': 'Python 3'\n",
    "            },\n",
    "        ],\n",
    "        'FileSystemConfig': {\n",
    "            'MountPath': '/home/sagemaker-user',\n",
    "            'DefaultUid': 1000,\n",
    "            'DefaultGid': 100\n",
    "        }\n",
    "    }\n",
    ")\n",
    "print(app_image_config_response)"
   ]
  },
  {
   "cell_type": "markdown",
   "metadata": {},
   "source": [
    "## Testing the custom image and kernel"
   ]
  },
  {
   "cell_type": "markdown",
   "metadata": {},
   "source": [
    "To test the custom image and the exposed Python 3.8 kernel, we are going to update an existing Amazon SageMaker Studio domain. If you don't have a Studio domain ready, please follow the instructions at: https://docs.aws.amazon.com/sagemaker/latest/dg/gs.html"
   ]
  },
  {
   "cell_type": "code",
   "execution_count": 126,
   "metadata": {},
   "outputs": [
    {
     "name": "stdout",
     "output_type": "stream",
     "text": [
      "{'DomainArn': 'arn:aws:sagemaker:eu-west-1:825935527263:domain/d-szhayk8bljvj', 'ResponseMetadata': {'RequestId': 'ecb61392-bb0d-4421-9af9-c1de3b759a7f', 'HTTPStatusCode': 200, 'HTTPHeaders': {'x-amzn-requestid': 'ecb61392-bb0d-4421-9af9-c1de3b759a7f', 'content-type': 'application/x-amz-json-1.1', 'content-length': '78', 'date': 'Wed, 24 Mar 2021 18:39:08 GMT'}, 'RetryAttempts': 0}}\n"
     ]
    }
   ],
   "source": [
    "domain_id = 'd-szhayk8bljvj'\n",
    "\n",
    "update_domain_response = client.update_domain(\n",
    "    DomainId=domain_id,\n",
    "    DefaultUserSettings={\n",
    "        'KernelGatewayAppSettings': {\n",
    "            'CustomImages': [\n",
    "                {\n",
    "                    'ImageName': 'python38-custom-image',\n",
    "                    'ImageVersionNumber': 1,\n",
    "                    'AppImageConfigName': 'python38-custom-app-image-config'\n",
    "                },\n",
    "            ]\n",
    "        }\n",
    "    }\n",
    ")\n",
    "print(update_domain_response)"
   ]
  },
  {
   "cell_type": "markdown",
   "metadata": {},
   "source": [
    "Now we need to move to the SageMaker Studio UI to check if the custom image and kernel work as expected."
   ]
  },
  {
   "cell_type": "code",
   "execution_count": null,
   "metadata": {},
   "outputs": [],
   "source": []
  },
  {
   "cell_type": "code",
   "execution_count": null,
   "metadata": {},
   "outputs": [],
   "source": []
  },
  {
   "cell_type": "code",
   "execution_count": 121,
   "metadata": {},
   "outputs": [
    {
     "name": "stdout",
     "output_type": "stream",
     "text": [
      "{'DomainArn': 'arn:aws:sagemaker:eu-west-1:825935527263:domain/d-szhayk8bljvj', 'ResponseMetadata': {'RequestId': '82d23834-32b1-4d13-a620-88a13ef7b8a2', 'HTTPStatusCode': 200, 'HTTPHeaders': {'x-amzn-requestid': '82d23834-32b1-4d13-a620-88a13ef7b8a2', 'content-type': 'application/x-amz-json-1.1', 'content-length': '78', 'date': 'Wed, 24 Mar 2021 18:37:13 GMT'}, 'RetryAttempts': 0}}\n"
     ]
    }
   ],
   "source": [
    "domain_id = 'd-szhayk8bljvj'\n",
    "\n",
    "update_domain_response = client.update_domain(\n",
    "    DomainId=domain_id,\n",
    "    DefaultUserSettings={\n",
    "        'KernelGatewayAppSettings': {\n",
    "            'CustomImages': [\n",
    "            ]\n",
    "        }\n",
    "    }\n",
    ")\n",
    "print(update_domain_response)\n",
    "\n",
    "\n",
    "client.delete_image_version(\n",
    "    ImageName='python38-custom-image',\n",
    "    Version=1\n",
    ")\n",
    "client.delete_image(\n",
    "    ImageName='python38-custom-image'\n",
    ")\n",
    "response = client.delete_app_image_config(\n",
    "    AppImageConfigName='python38-custom-app-image-config'\n",
    ")"
   ]
  },
  {
   "cell_type": "code",
   "execution_count": null,
   "metadata": {},
   "outputs": [],
   "source": []
  }
 ],
 "metadata": {
  "kernelspec": {
   "display_name": "conda_python3",
   "language": "python",
   "name": "conda_python3"
  },
  "language_info": {
   "codemirror_mode": {
    "name": "ipython",
    "version": 3
   },
   "file_extension": ".py",
   "mimetype": "text/x-python",
   "name": "python",
   "nbconvert_exporter": "python",
   "pygments_lexer": "ipython3",
   "version": "3.6.10"
  }
 },
 "nbformat": 4,
 "nbformat_minor": 4
}
